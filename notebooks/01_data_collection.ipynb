{
 "cells": [
  {
   "cell_type": "markdown",
   "id": "f83f330c",
   "metadata": {},
   "source": [
    "1. Definição do Escopo\n",
    "- Empresa escolhida: Petrobras PN (PETR4.SA) — Pode ser trocada conforme o projeto.\n",
    "\n",
    "- Período: Últimos 5 anos de dados diários.\n",
    "\n",
    "- Fonte dos dados: Yahoo Finance usando a biblioteca yfinance (ou Alpha Vantage, se desejar alternativas).\n",
    "\n",
    "- Features mínimas: Open, High, Low, Close, Adj Close, Volume."
   ]
  },
  {
   "cell_type": "markdown",
   "id": "d8d5fed9",
   "metadata": {},
   "source": [
    "2. Instalação e Importação das Bibliotecas"
   ]
  },
  {
   "cell_type": "code",
   "execution_count": 3,
   "id": "f2af3484",
   "metadata": {},
   "outputs": [],
   "source": [
    "#!pip install yfinance pandas numpy"
   ]
  },
  {
   "cell_type": "code",
   "execution_count": 4,
   "id": "97cc639a",
   "metadata": {},
   "outputs": [],
   "source": [
    "import yfinance as yf\n",
    "import pandas as pd\n",
    "import numpy as np\n",
    "from datetime import datetime\n",
    "from pathlib import Path\n"
   ]
  },
  {
   "cell_type": "markdown",
   "id": "6dbdd687",
   "metadata": {},
   "source": [
    "3. Coleta dos Dados Históricos"
   ]
  },
  {
   "cell_type": "code",
   "execution_count": 9,
   "id": "5903df56",
   "metadata": {},
   "outputs": [
    {
     "name": "stderr",
     "output_type": "stream",
     "text": [
      "C:\\Users\\Ernane Domingues\\AppData\\Local\\Temp\\ipykernel_27596\\2979682276.py:7: FutureWarning: YF.download() has changed argument auto_adjust default to True\n",
      "  df = yf.download(ticker, start=start_date, end=end_date, progress=False, multi_level_index=False)\n"
     ]
    },
    {
     "data": {
      "text/html": [
       "<div>\n",
       "<style scoped>\n",
       "    .dataframe tbody tr th:only-of-type {\n",
       "        vertical-align: middle;\n",
       "    }\n",
       "\n",
       "    .dataframe tbody tr th {\n",
       "        vertical-align: top;\n",
       "    }\n",
       "\n",
       "    .dataframe thead th {\n",
       "        text-align: right;\n",
       "    }\n",
       "</style>\n",
       "<table border=\"1\" class=\"dataframe\">\n",
       "  <thead>\n",
       "    <tr style=\"text-align: right;\">\n",
       "      <th></th>\n",
       "      <th>Date</th>\n",
       "      <th>Close</th>\n",
       "      <th>High</th>\n",
       "      <th>Low</th>\n",
       "      <th>Open</th>\n",
       "      <th>Volume</th>\n",
       "    </tr>\n",
       "  </thead>\n",
       "  <tbody>\n",
       "    <tr>\n",
       "      <th>0</th>\n",
       "      <td>2020-01-02</td>\n",
       "      <td>9.656281</td>\n",
       "      <td>9.656281</td>\n",
       "      <td>9.533612</td>\n",
       "      <td>9.596519</td>\n",
       "      <td>37774500</td>\n",
       "    </tr>\n",
       "    <tr>\n",
       "      <th>1</th>\n",
       "      <td>2020-01-03</td>\n",
       "      <td>9.577648</td>\n",
       "      <td>9.826132</td>\n",
       "      <td>9.577648</td>\n",
       "      <td>9.712899</td>\n",
       "      <td>71595600</td>\n",
       "    </tr>\n",
       "    <tr>\n",
       "      <th>2</th>\n",
       "      <td>2020-01-06</td>\n",
       "      <td>9.690880</td>\n",
       "      <td>9.731770</td>\n",
       "      <td>9.420379</td>\n",
       "      <td>9.571356</td>\n",
       "      <td>81844000</td>\n",
       "    </tr>\n",
       "    <tr>\n",
       "      <th>3</th>\n",
       "      <td>2020-01-07</td>\n",
       "      <td>9.653135</td>\n",
       "      <td>9.712897</td>\n",
       "      <td>9.583937</td>\n",
       "      <td>9.694025</td>\n",
       "      <td>32822000</td>\n",
       "    </tr>\n",
       "    <tr>\n",
       "      <th>4</th>\n",
       "      <td>2020-01-08</td>\n",
       "      <td>9.593374</td>\n",
       "      <td>9.678299</td>\n",
       "      <td>9.511595</td>\n",
       "      <td>9.653136</td>\n",
       "      <td>48215600</td>\n",
       "    </tr>\n",
       "  </tbody>\n",
       "</table>\n",
       "</div>"
      ],
      "text/plain": [
       "        Date     Close      High       Low      Open    Volume\n",
       "0 2020-01-02  9.656281  9.656281  9.533612  9.596519  37774500\n",
       "1 2020-01-03  9.577648  9.826132  9.577648  9.712899  71595600\n",
       "2 2020-01-06  9.690880  9.731770  9.420379  9.571356  81844000\n",
       "3 2020-01-07  9.653135  9.712897  9.583937  9.694025  32822000\n",
       "4 2020-01-08  9.593374  9.678299  9.511595  9.653136  48215600"
      ]
     },
     "execution_count": 9,
     "metadata": {},
     "output_type": "execute_result"
    }
   ],
   "source": [
    "# Configuração dos parâmetros\n",
    "ticker = \"PETR4.SA\"  # Altere conforme a empresa escolhida\n",
    "start_date = \"2020-01-01\"\n",
    "end_date = datetime.today().strftime(\"%Y-%m-%d\")\n",
    "\n",
    "# Download dos dados\n",
    "df = yf.download(ticker, start=start_date, end=end_date, progress=False, multi_level_index=False)\n",
    "df.reset_index(inplace=True)\n",
    "df.head()"
   ]
  },
  {
   "cell_type": "markdown",
   "id": "7e6710d5",
   "metadata": {},
   "source": [
    "4. Exploração Inicial e Limpeza dos Dados\n",
    "- Verifique as primeiras linhas do dataset (df.head())\n",
    "\n",
    "- Cheque valores ausentes e consistência dos dados:"
   ]
  },
  {
   "cell_type": "code",
   "execution_count": 10,
   "id": "f3cf108e",
   "metadata": {},
   "outputs": [
    {
     "name": "stdout",
     "output_type": "stream",
     "text": [
      "<class 'pandas.core.frame.DataFrame'>\n",
      "RangeIndex: 1378 entries, 0 to 1377\n",
      "Data columns (total 6 columns):\n",
      " #   Column  Non-Null Count  Dtype         \n",
      "---  ------  --------------  -----         \n",
      " 0   Date    1378 non-null   datetime64[ns]\n",
      " 1   Close   1378 non-null   float64       \n",
      " 2   High    1378 non-null   float64       \n",
      " 3   Low     1378 non-null   float64       \n",
      " 4   Open    1378 non-null   float64       \n",
      " 5   Volume  1378 non-null   int64         \n",
      "dtypes: datetime64[ns](1), float64(4), int64(1)\n",
      "memory usage: 64.7 KB\n",
      "None\n",
      "Date      0\n",
      "Close     0\n",
      "High      0\n",
      "Low       0\n",
      "Open      0\n",
      "Volume    0\n",
      "dtype: int64\n"
     ]
    }
   ],
   "source": [
    "print(df.info())\n",
    "print(df.isnull().sum())\n",
    "\n",
    "# Preenchimento ou remoção de valores ausentes, se necessário\n",
    "df.dropna(inplace=True)"
   ]
  },
  {
   "cell_type": "markdown",
   "id": "009777f7",
   "metadata": {},
   "source": [
    "5. Validação e Salvamento dos Dados\n",
    "- Validar se o período desejado está completo.\n",
    "\n",
    "- Salvar em formato Parquet para eficiência:"
   ]
  },
  {
   "cell_type": "code",
   "execution_count": 11,
   "id": "af2e59a1",
   "metadata": {},
   "outputs": [
    {
     "name": "stdout",
     "output_type": "stream",
     "text": [
      "Arquivo salvo em: ..\\src\\data\\PETR4.SA_historical.parquet\n"
     ]
    }
   ],
   "source": [
    "DATA_PATH = Path(\"../src/data\")\n",
    "DATA_PATH.mkdir(parents=True, exist_ok=True)\n",
    "\n",
    "output_file = DATA_PATH / f\"{ticker}_historical.parquet\"\n",
    "df.to_parquet(output_file, index=False)\n",
    "print(f\"Arquivo salvo em: {output_file}\")\n"
   ]
  },
  {
   "cell_type": "code",
   "execution_count": null,
   "id": "b1868401",
   "metadata": {},
   "outputs": [],
   "source": []
  }
 ],
 "metadata": {
  "kernelspec": {
   "display_name": "env-stock-prediction",
   "language": "python",
   "name": "python3"
  },
  "language_info": {
   "codemirror_mode": {
    "name": "ipython",
    "version": 3
   },
   "file_extension": ".py",
   "mimetype": "text/x-python",
   "name": "python",
   "nbconvert_exporter": "python",
   "pygments_lexer": "ipython3",
   "version": "3.13.5"
  }
 },
 "nbformat": 4,
 "nbformat_minor": 5
}
