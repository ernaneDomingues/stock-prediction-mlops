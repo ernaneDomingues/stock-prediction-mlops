{
 "cells": [
  {
   "cell_type": "markdown",
   "id": "b63c30f1",
   "metadata": {},
   "source": [
    "1. Importação de Bibliotecas e Dados"
   ]
  },
  {
   "cell_type": "code",
   "execution_count": 2,
   "id": "c3070b21",
   "metadata": {},
   "outputs": [],
   "source": [
    "import pandas as pd\n",
    "import numpy as np\n",
    "from ta.momentum import RSIIndicator\n",
    "from ta.trend import MACD\n",
    "from ta.volatility import BollingerBands\n",
    "from pathlib import Path\n",
    "\n",
    "DATA_PATH = Path(\"../src/data\")\n",
    "ticker = \"PETR4.SA\"\n",
    "df = pd.read_parquet(DATA_PATH / f\"{ticker}_historical.parquet\")\n",
    "df['Date'] = pd.to_datetime(df['Date'])\n",
    "df.set_index('Date', inplace=True)"
   ]
  },
  {
   "cell_type": "markdown",
   "id": "903bc292",
   "metadata": {},
   "source": [
    "2. Criação de Indicadores Técnicos\n",
    "- Médias móveis (SMA):"
   ]
  },
  {
   "cell_type": "code",
   "execution_count": 3,
   "id": "2aa40d50",
   "metadata": {},
   "outputs": [],
   "source": [
    "df['SMA_5'] = df['Close'].rolling(window=5).mean()\n",
    "df['SMA_10'] = df['Close'].rolling(window=10).mean()\n",
    "df['SMA_20'] = df['Close'].rolling(window=20).mean()"
   ]
  },
  {
   "cell_type": "markdown",
   "id": "06648487",
   "metadata": {},
   "source": [
    "- RSI (Índice de Força Relativa):"
   ]
  },
  {
   "cell_type": "code",
   "execution_count": 4,
   "id": "f2665a62",
   "metadata": {},
   "outputs": [],
   "source": [
    "df['RSI_14'] = RSIIndicator(df['Close'], window=14).rsi()"
   ]
  },
  {
   "cell_type": "markdown",
   "id": "358ad5b5",
   "metadata": {},
   "source": [
    "- MACD:"
   ]
  },
  {
   "cell_type": "code",
   "execution_count": 5,
   "id": "9b9906da",
   "metadata": {},
   "outputs": [],
   "source": [
    "macd = MACD(df['Close'])\n",
    "df['MACD'] = macd.macd()\n",
    "df['MACD_signal'] = macd.macd_signal()"
   ]
  },
  {
   "cell_type": "markdown",
   "id": "2d8e442f",
   "metadata": {},
   "source": [
    "- Bandas de Bollinger:"
   ]
  },
  {
   "cell_type": "code",
   "execution_count": 6,
   "id": "09d9ea89",
   "metadata": {},
   "outputs": [],
   "source": [
    "bb = BollingerBands(df['Close'], window=20)\n",
    "df['BB_high'] = bb.bollinger_hband()\n",
    "df['BB_low'] = bb.bollinger_lband()"
   ]
  },
  {
   "cell_type": "markdown",
   "id": "d82b341b",
   "metadata": {},
   "source": [
    "3. Criação de Features Temporais\n",
    "- Dia da semana:"
   ]
  },
  {
   "cell_type": "code",
   "execution_count": 7,
   "id": "5e9051b7",
   "metadata": {},
   "outputs": [],
   "source": [
    "df['weekday'] = df.index.weekday"
   ]
  },
  {
   "cell_type": "markdown",
   "id": "73944fa5",
   "metadata": {},
   "source": [
    "- Mês do ano:"
   ]
  },
  {
   "cell_type": "code",
   "execution_count": 8,
   "id": "c28d336d",
   "metadata": {},
   "outputs": [],
   "source": [
    "df['month'] = df.index.month"
   ]
  },
  {
   "cell_type": "markdown",
   "id": "6818b032",
   "metadata": {},
   "source": [
    "4. Introdução de Lags\n",
    "- Features defasadas:"
   ]
  },
  {
   "cell_type": "code",
   "execution_count": 9,
   "id": "4c8261bd",
   "metadata": {},
   "outputs": [],
   "source": [
    "df['Close_lag1'] = df['Close'].shift(1)\n",
    "df['Close_lag3'] = df['Close'].shift(3)\n",
    "df['Close_lag5'] = df['Close'].shift(5)"
   ]
  },
  {
   "cell_type": "markdown",
   "id": "215c9553",
   "metadata": {},
   "source": [
    "- Volume defasado:"
   ]
  },
  {
   "cell_type": "code",
   "execution_count": 10,
   "id": "9c9d7876",
   "metadata": {},
   "outputs": [],
   "source": [
    "df['Volume_lag1'] = df['Volume'].shift(1)"
   ]
  },
  {
   "cell_type": "markdown",
   "id": "0c7427d6",
   "metadata": {},
   "source": [
    "5. Retornos e Volatilidade\n",
    "- Retorno percentual diário e acumulado:"
   ]
  },
  {
   "cell_type": "code",
   "execution_count": 11,
   "id": "6e0c27b3",
   "metadata": {},
   "outputs": [],
   "source": [
    "df['Return_1d'] = df['Close'].pct_change()\n",
    "df['Return_5d'] = df['Close'].pct_change(5)\n",
    "df['Cumulative_Return'] = (1 + df['Return_1d']).cumprod() - 1"
   ]
  },
  {
   "cell_type": "markdown",
   "id": "ba090c89",
   "metadata": {},
   "source": [
    "- Volatilidade realizada (móvel):"
   ]
  },
  {
   "cell_type": "code",
   "execution_count": 12,
   "id": "3dafcb6f",
   "metadata": {},
   "outputs": [],
   "source": [
    "df['Volatility_20d'] = df['Return_1d'].rolling(window=20).std()"
   ]
  },
  {
   "cell_type": "markdown",
   "id": "1e0aa8dd",
   "metadata": {},
   "source": [
    "- Range verdadeiro (True Range):"
   ]
  },
  {
   "cell_type": "code",
   "execution_count": 13,
   "id": "083605de",
   "metadata": {},
   "outputs": [],
   "source": [
    "df['True_Range'] = np.maximum(\n",
    "    df['High'] - df['Low'],\n",
    "    np.maximum(\n",
    "        abs(df['High'] - df['Close'].shift(1)),\n",
    "        abs(df['Low'] - df['Close'].shift(1))\n",
    "    ))"
   ]
  },
  {
   "cell_type": "markdown",
   "id": "696959ac",
   "metadata": {},
   "source": [
    "6. Tratamento de Missing Values e Escalonamento\n",
    "- Remover linhas iniciais com valores faltantes (de indicadores/lags):"
   ]
  },
  {
   "cell_type": "code",
   "execution_count": 14,
   "id": "3ad6a35b",
   "metadata": {},
   "outputs": [],
   "source": [
    "df = df.dropna()"
   ]
  },
  {
   "cell_type": "markdown",
   "id": "cf316752",
   "metadata": {},
   "source": [
    "- Escalonamento dos dados (opcional, para modelos que exigem):"
   ]
  },
  {
   "cell_type": "code",
   "execution_count": 16,
   "id": "ce03634a",
   "metadata": {},
   "outputs": [],
   "source": [
    "from sklearn.preprocessing import StandardScaler\n",
    "features = [col for col in df.columns if col not in ['Close']]\n",
    "scaler = StandardScaler()\n",
    "df[features] = scaler.fit_transform(df[features])"
   ]
  },
  {
   "cell_type": "markdown",
   "id": "11b23390",
   "metadata": {},
   "source": [
    "7. Salvamento do Dataset Processado\n",
    "- Salvar dataset para modelagem:"
   ]
  },
  {
   "cell_type": "code",
   "execution_count": 17,
   "id": "4bae5d45",
   "metadata": {},
   "outputs": [
    {
     "name": "stdout",
     "output_type": "stream",
     "text": [
      "Dataset salvo em: ..\\src\\data\\PETR4.SA_features.parquet\n"
     ]
    }
   ],
   "source": [
    "output_file = DATA_PATH / f\"{ticker}_features.parquet\"\n",
    "df.to_parquet(output_file, index=True)\n",
    "print(f\"Dataset salvo em: {output_file}\")"
   ]
  },
  {
   "cell_type": "code",
   "execution_count": null,
   "id": "f28afd39",
   "metadata": {},
   "outputs": [],
   "source": []
  }
 ],
 "metadata": {
  "kernelspec": {
   "display_name": "env-stock-prediction",
   "language": "python",
   "name": "python3"
  },
  "language_info": {
   "codemirror_mode": {
    "name": "ipython",
    "version": 3
   },
   "file_extension": ".py",
   "mimetype": "text/x-python",
   "name": "python",
   "nbconvert_exporter": "python",
   "pygments_lexer": "ipython3",
   "version": "3.13.5"
  }
 },
 "nbformat": 4,
 "nbformat_minor": 5
}
