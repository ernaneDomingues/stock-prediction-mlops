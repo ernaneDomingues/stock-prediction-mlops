{
 "cells": [
  {
   "cell_type": "markdown",
   "id": "9d8aa19f",
   "metadata": {},
   "source": [
    "1. Importação de Bibliotecas e Dados"
   ]
  },
  {
   "cell_type": "code",
   "execution_count": 1,
   "id": "b0fbc716",
   "metadata": {},
   "outputs": [
    {
     "name": "stderr",
     "output_type": "stream",
     "text": [
      "c:\\Users\\Ernane Domingues\\.conda\\envs\\env-stock-prediction\\Lib\\site-packages\\google\\protobuf\\runtime_version.py:98: UserWarning: Protobuf gencode version 5.28.3 is exactly one major version older than the runtime version 6.31.1 at tensorflow/core/framework/attr_value.proto. Please update the gencode to avoid compatibility violations in the next runtime release.\n",
      "  warnings.warn(\n",
      "c:\\Users\\Ernane Domingues\\.conda\\envs\\env-stock-prediction\\Lib\\site-packages\\google\\protobuf\\runtime_version.py:98: UserWarning: Protobuf gencode version 5.28.3 is exactly one major version older than the runtime version 6.31.1 at tensorflow/core/framework/tensor.proto. Please update the gencode to avoid compatibility violations in the next runtime release.\n",
      "  warnings.warn(\n",
      "c:\\Users\\Ernane Domingues\\.conda\\envs\\env-stock-prediction\\Lib\\site-packages\\google\\protobuf\\runtime_version.py:98: UserWarning: Protobuf gencode version 5.28.3 is exactly one major version older than the runtime version 6.31.1 at tensorflow/core/framework/resource_handle.proto. Please update the gencode to avoid compatibility violations in the next runtime release.\n",
      "  warnings.warn(\n",
      "c:\\Users\\Ernane Domingues\\.conda\\envs\\env-stock-prediction\\Lib\\site-packages\\google\\protobuf\\runtime_version.py:98: UserWarning: Protobuf gencode version 5.28.3 is exactly one major version older than the runtime version 6.31.1 at tensorflow/core/framework/tensor_shape.proto. Please update the gencode to avoid compatibility violations in the next runtime release.\n",
      "  warnings.warn(\n",
      "c:\\Users\\Ernane Domingues\\.conda\\envs\\env-stock-prediction\\Lib\\site-packages\\google\\protobuf\\runtime_version.py:98: UserWarning: Protobuf gencode version 5.28.3 is exactly one major version older than the runtime version 6.31.1 at tensorflow/core/framework/types.proto. Please update the gencode to avoid compatibility violations in the next runtime release.\n",
      "  warnings.warn(\n",
      "c:\\Users\\Ernane Domingues\\.conda\\envs\\env-stock-prediction\\Lib\\site-packages\\google\\protobuf\\runtime_version.py:98: UserWarning: Protobuf gencode version 5.28.3 is exactly one major version older than the runtime version 6.31.1 at tensorflow/core/framework/full_type.proto. Please update the gencode to avoid compatibility violations in the next runtime release.\n",
      "  warnings.warn(\n",
      "c:\\Users\\Ernane Domingues\\.conda\\envs\\env-stock-prediction\\Lib\\site-packages\\google\\protobuf\\runtime_version.py:98: UserWarning: Protobuf gencode version 5.28.3 is exactly one major version older than the runtime version 6.31.1 at tensorflow/core/framework/function.proto. Please update the gencode to avoid compatibility violations in the next runtime release.\n",
      "  warnings.warn(\n",
      "c:\\Users\\Ernane Domingues\\.conda\\envs\\env-stock-prediction\\Lib\\site-packages\\google\\protobuf\\runtime_version.py:98: UserWarning: Protobuf gencode version 5.28.3 is exactly one major version older than the runtime version 6.31.1 at tensorflow/core/framework/node_def.proto. Please update the gencode to avoid compatibility violations in the next runtime release.\n",
      "  warnings.warn(\n",
      "c:\\Users\\Ernane Domingues\\.conda\\envs\\env-stock-prediction\\Lib\\site-packages\\google\\protobuf\\runtime_version.py:98: UserWarning: Protobuf gencode version 5.28.3 is exactly one major version older than the runtime version 6.31.1 at tensorflow/core/framework/op_def.proto. Please update the gencode to avoid compatibility violations in the next runtime release.\n",
      "  warnings.warn(\n",
      "c:\\Users\\Ernane Domingues\\.conda\\envs\\env-stock-prediction\\Lib\\site-packages\\google\\protobuf\\runtime_version.py:98: UserWarning: Protobuf gencode version 5.28.3 is exactly one major version older than the runtime version 6.31.1 at tensorflow/core/framework/graph.proto. Please update the gencode to avoid compatibility violations in the next runtime release.\n",
      "  warnings.warn(\n",
      "c:\\Users\\Ernane Domingues\\.conda\\envs\\env-stock-prediction\\Lib\\site-packages\\google\\protobuf\\runtime_version.py:98: UserWarning: Protobuf gencode version 5.28.3 is exactly one major version older than the runtime version 6.31.1 at tensorflow/core/framework/graph_debug_info.proto. Please update the gencode to avoid compatibility violations in the next runtime release.\n",
      "  warnings.warn(\n",
      "c:\\Users\\Ernane Domingues\\.conda\\envs\\env-stock-prediction\\Lib\\site-packages\\google\\protobuf\\runtime_version.py:98: UserWarning: Protobuf gencode version 5.28.3 is exactly one major version older than the runtime version 6.31.1 at tensorflow/core/framework/versions.proto. Please update the gencode to avoid compatibility violations in the next runtime release.\n",
      "  warnings.warn(\n",
      "c:\\Users\\Ernane Domingues\\.conda\\envs\\env-stock-prediction\\Lib\\site-packages\\google\\protobuf\\runtime_version.py:98: UserWarning: Protobuf gencode version 5.28.3 is exactly one major version older than the runtime version 6.31.1 at tensorflow/core/protobuf/config.proto. Please update the gencode to avoid compatibility violations in the next runtime release.\n",
      "  warnings.warn(\n",
      "c:\\Users\\Ernane Domingues\\.conda\\envs\\env-stock-prediction\\Lib\\site-packages\\google\\protobuf\\runtime_version.py:98: UserWarning: Protobuf gencode version 5.28.3 is exactly one major version older than the runtime version 6.31.1 at xla/tsl/protobuf/coordination_config.proto. Please update the gencode to avoid compatibility violations in the next runtime release.\n",
      "  warnings.warn(\n",
      "c:\\Users\\Ernane Domingues\\.conda\\envs\\env-stock-prediction\\Lib\\site-packages\\google\\protobuf\\runtime_version.py:98: UserWarning: Protobuf gencode version 5.28.3 is exactly one major version older than the runtime version 6.31.1 at tensorflow/core/framework/cost_graph.proto. Please update the gencode to avoid compatibility violations in the next runtime release.\n",
      "  warnings.warn(\n",
      "c:\\Users\\Ernane Domingues\\.conda\\envs\\env-stock-prediction\\Lib\\site-packages\\google\\protobuf\\runtime_version.py:98: UserWarning: Protobuf gencode version 5.28.3 is exactly one major version older than the runtime version 6.31.1 at tensorflow/core/framework/step_stats.proto. Please update the gencode to avoid compatibility violations in the next runtime release.\n",
      "  warnings.warn(\n",
      "c:\\Users\\Ernane Domingues\\.conda\\envs\\env-stock-prediction\\Lib\\site-packages\\google\\protobuf\\runtime_version.py:98: UserWarning: Protobuf gencode version 5.28.3 is exactly one major version older than the runtime version 6.31.1 at tensorflow/core/framework/allocation_description.proto. Please update the gencode to avoid compatibility violations in the next runtime release.\n",
      "  warnings.warn(\n",
      "c:\\Users\\Ernane Domingues\\.conda\\envs\\env-stock-prediction\\Lib\\site-packages\\google\\protobuf\\runtime_version.py:98: UserWarning: Protobuf gencode version 5.28.3 is exactly one major version older than the runtime version 6.31.1 at tensorflow/core/framework/tensor_description.proto. Please update the gencode to avoid compatibility violations in the next runtime release.\n",
      "  warnings.warn(\n",
      "c:\\Users\\Ernane Domingues\\.conda\\envs\\env-stock-prediction\\Lib\\site-packages\\google\\protobuf\\runtime_version.py:98: UserWarning: Protobuf gencode version 5.28.3 is exactly one major version older than the runtime version 6.31.1 at tensorflow/core/protobuf/cluster.proto. Please update the gencode to avoid compatibility violations in the next runtime release.\n",
      "  warnings.warn(\n",
      "c:\\Users\\Ernane Domingues\\.conda\\envs\\env-stock-prediction\\Lib\\site-packages\\google\\protobuf\\runtime_version.py:98: UserWarning: Protobuf gencode version 5.28.3 is exactly one major version older than the runtime version 6.31.1 at tensorflow/core/protobuf/debug.proto. Please update the gencode to avoid compatibility violations in the next runtime release.\n",
      "  warnings.warn(\n",
      "c:\\Users\\Ernane Domingues\\.conda\\envs\\env-stock-prediction\\Lib\\site-packages\\tqdm\\auto.py:21: TqdmWarning: IProgress not found. Please update jupyter and ipywidgets. See https://ipywidgets.readthedocs.io/en/stable/user_install.html\n",
      "  from .autonotebook import tqdm as notebook_tqdm\n",
      "Importing plotly failed. Interactive plots will not work.\n"
     ]
    }
   ],
   "source": [
    "import pandas as pd\n",
    "import numpy as np\n",
    "from sklearn.model_selection import TimeSeriesSplit, GridSearchCV\n",
    "from sklearn.metrics import mean_absolute_error, mean_squared_error, mean_absolute_percentage_error\n",
    "from xgboost import XGBRegressor\n",
    "from statsmodels.tsa.arima.model import ARIMA\n",
    "import tensorflow as tf\n",
    "from tensorflow.keras import layers, models, callbacks\n",
    "from prophet import Prophet\n",
    "from pathlib import Path\n",
    "import joblib"
   ]
  },
  {
   "cell_type": "code",
   "execution_count": 2,
   "id": "43dbc263",
   "metadata": {},
   "outputs": [],
   "source": [
    "DATA_PATH = Path(\"../src/data\")\n",
    "ticker = \"PETR4.SA\"\n",
    "df = pd.read_parquet(DATA_PATH / f\"{ticker}_features.parquet\")\n",
    "df = df.sort_index()\n"
   ]
  },
  {
   "cell_type": "markdown",
   "id": "bb4e0aac",
   "metadata": {},
   "source": [
    "2. Preparação dos Dados para Modelagem\n",
    "- Separação da variável alvo:"
   ]
  },
  {
   "cell_type": "code",
   "execution_count": 3,
   "id": "b71d7aa0",
   "metadata": {},
   "outputs": [],
   "source": [
    "target = 'Close'\n",
    "X = df.drop(columns=[target])\n",
    "y = df[target]"
   ]
  },
  {
   "cell_type": "markdown",
   "id": "635cc6c9",
   "metadata": {},
   "source": [
    "- Divisão temporal:\n",
    "70% treino, 15% validação, 15% teste."
   ]
  },
  {
   "cell_type": "code",
   "execution_count": 4,
   "id": "d7a25da3",
   "metadata": {},
   "outputs": [],
   "source": [
    "train_size = int(len(df) * 0.7)\n",
    "val_size = int(len(df) * 0.15)\n",
    "X_train, y_train = X.iloc[:train_size], y.iloc[:train_size]\n",
    "X_val, y_val = X.iloc[train_size:train_size+val_size], y.iloc[train_size:train_size+val_size]\n",
    "X_test, y_test = X.iloc[train_size+val_size:], y.iloc[train_size+val_size:]\n"
   ]
  },
  {
   "cell_type": "markdown",
   "id": "73df19f6",
   "metadata": {},
   "source": [
    "3. Definição e Treinamento dos Modelos\n",
    "- 3.1. Baseline: XGBoost Regressor"
   ]
  },
  {
   "cell_type": "code",
   "execution_count": 6,
   "id": "0af98ec2",
   "metadata": {},
   "outputs": [],
   "source": [
    "xgb = XGBRegressor(n_estimators=100, learning_rate=0.05, random_state=42)\n",
    "xgb.fit(X_train, y_train)\n",
    "y_val_pred = xgb.predict(X_val)"
   ]
  },
  {
   "cell_type": "markdown",
   "id": "e6da5ea0",
   "metadata": {},
   "source": [
    "- 3.2. ARIMA\n",
    "    - Use apenas a série univariada de fechamento."
   ]
  },
  {
   "cell_type": "code",
   "execution_count": 7,
   "id": "a337abf8",
   "metadata": {},
   "outputs": [
    {
     "name": "stderr",
     "output_type": "stream",
     "text": [
      "c:\\Users\\Ernane Domingues\\.conda\\envs\\env-stock-prediction\\Lib\\site-packages\\statsmodels\\tsa\\base\\tsa_model.py:473: ValueWarning: A date index has been provided, but it has no associated frequency information and so will be ignored when e.g. forecasting.\n",
      "  self._init_dates(dates, freq)\n",
      "c:\\Users\\Ernane Domingues\\.conda\\envs\\env-stock-prediction\\Lib\\site-packages\\statsmodels\\tsa\\base\\tsa_model.py:473: ValueWarning: A date index has been provided, but it has no associated frequency information and so will be ignored when e.g. forecasting.\n",
      "  self._init_dates(dates, freq)\n",
      "c:\\Users\\Ernane Domingues\\.conda\\envs\\env-stock-prediction\\Lib\\site-packages\\statsmodels\\tsa\\base\\tsa_model.py:473: ValueWarning: A date index has been provided, but it has no associated frequency information and so will be ignored when e.g. forecasting.\n",
      "  self._init_dates(dates, freq)\n",
      "c:\\Users\\Ernane Domingues\\.conda\\envs\\env-stock-prediction\\Lib\\site-packages\\statsmodels\\tsa\\base\\tsa_model.py:837: ValueWarning: No supported index is available. Prediction results will be given with an integer index beginning at `start`.\n",
      "  return get_prediction_index(\n",
      "c:\\Users\\Ernane Domingues\\.conda\\envs\\env-stock-prediction\\Lib\\site-packages\\statsmodels\\tsa\\base\\tsa_model.py:837: FutureWarning: No supported index is available. In the next version, calling this method in a model without a supported index will result in an exception.\n",
      "  return get_prediction_index(\n"
     ]
    }
   ],
   "source": [
    "arima_model = ARIMA(y_train, order=(5,1,0))\n",
    "arima_fitted = arima_model.fit()\n",
    "y_val_pred_arima = arima_fitted.forecast(steps=len(y_val))"
   ]
  },
  {
   "cell_type": "markdown",
   "id": "31eb2f14",
   "metadata": {},
   "source": [
    "- 3.3. Prophet\n",
    "    - Estruture o dataframe no formato esperado (ds, y)."
   ]
  },
  {
   "cell_type": "code",
   "execution_count": 8,
   "id": "adadf3e4",
   "metadata": {},
   "outputs": [
    {
     "name": "stderr",
     "output_type": "stream",
     "text": [
      "17:54:36 - cmdstanpy - INFO - Chain [1] start processing\n",
      "17:54:41 - cmdstanpy - INFO - Chain [1] done processing\n"
     ]
    }
   ],
   "source": [
    "prophet_df = pd.DataFrame({'ds': y_train.index, 'y': y_train.values})\n",
    "model_prophet = Prophet()\n",
    "model_prophet.fit(prophet_df)\n",
    "future = pd.DataFrame({'ds': y_val.index})\n",
    "y_val_pred_prophet = model_prophet.predict(future)['yhat'].values"
   ]
  },
  {
   "cell_type": "markdown",
   "id": "1e29bbbe",
   "metadata": {},
   "source": [
    "- 3.4. LSTM (TensorFlow/Keras)\n",
    "    - Estruture entradas como sequência."
   ]
  },
  {
   "cell_type": "code",
   "execution_count": 9,
   "id": "55e97067",
   "metadata": {},
   "outputs": [
    {
     "name": "stdout",
     "output_type": "stream",
     "text": [
      "Epoch 1/20\n"
     ]
    },
    {
     "name": "stderr",
     "output_type": "stream",
     "text": [
      "c:\\Users\\Ernane Domingues\\.conda\\envs\\env-stock-prediction\\Lib\\site-packages\\keras\\src\\layers\\rnn\\rnn.py:199: UserWarning: Do not pass an `input_shape`/`input_dim` argument to a layer. When using Sequential models, prefer using an `Input(shape)` object as the first layer in the model instead.\n",
      "  super().__init__(**kwargs)\n"
     ]
    },
    {
     "name": "stdout",
     "output_type": "stream",
     "text": [
      "\u001b[1m30/30\u001b[0m \u001b[32m━━━━━━━━━━━━━━━━━━━━\u001b[0m\u001b[37m\u001b[0m \u001b[1m3s\u001b[0m 9ms/step - loss: 141.9622 - val_loss: 691.5257\n",
      "Epoch 2/20\n",
      "\u001b[1m30/30\u001b[0m \u001b[32m━━━━━━━━━━━━━━━━━━━━\u001b[0m\u001b[37m\u001b[0m \u001b[1m0s\u001b[0m 4ms/step - loss: 63.4597 - val_loss: 521.7568\n",
      "Epoch 3/20\n",
      "\u001b[1m30/30\u001b[0m \u001b[32m━━━━━━━━━━━━━━━━━━━━\u001b[0m\u001b[37m\u001b[0m \u001b[1m0s\u001b[0m 4ms/step - loss: 43.2637 - val_loss: 448.8982\n",
      "Epoch 4/20\n",
      "\u001b[1m30/30\u001b[0m \u001b[32m━━━━━━━━━━━━━━━━━━━━\u001b[0m\u001b[37m\u001b[0m \u001b[1m0s\u001b[0m 4ms/step - loss: 38.0325 - val_loss: 415.7565\n",
      "Epoch 5/20\n",
      "\u001b[1m30/30\u001b[0m \u001b[32m━━━━━━━━━━━━━━━━━━━━\u001b[0m\u001b[37m\u001b[0m \u001b[1m0s\u001b[0m 4ms/step - loss: 32.9454 - val_loss: 385.9911\n",
      "Epoch 6/20\n",
      "\u001b[1m30/30\u001b[0m \u001b[32m━━━━━━━━━━━━━━━━━━━━\u001b[0m\u001b[37m\u001b[0m \u001b[1m0s\u001b[0m 4ms/step - loss: 22.0604 - val_loss: 339.0117\n",
      "Epoch 7/20\n",
      "\u001b[1m30/30\u001b[0m \u001b[32m━━━━━━━━━━━━━━━━━━━━\u001b[0m\u001b[37m\u001b[0m \u001b[1m0s\u001b[0m 4ms/step - loss: 16.9026 - val_loss: 302.2913\n",
      "Epoch 8/20\n",
      "\u001b[1m30/30\u001b[0m \u001b[32m━━━━━━━━━━━━━━━━━━━━\u001b[0m\u001b[37m\u001b[0m \u001b[1m0s\u001b[0m 4ms/step - loss: 13.6072 - val_loss: 274.1652\n",
      "Epoch 9/20\n",
      "\u001b[1m30/30\u001b[0m \u001b[32m━━━━━━━━━━━━━━━━━━━━\u001b[0m\u001b[37m\u001b[0m \u001b[1m0s\u001b[0m 4ms/step - loss: 11.2170 - val_loss: 247.6783\n",
      "Epoch 10/20\n",
      "\u001b[1m30/30\u001b[0m \u001b[32m━━━━━━━━━━━━━━━━━━━━\u001b[0m\u001b[37m\u001b[0m \u001b[1m0s\u001b[0m 4ms/step - loss: 9.3447 - val_loss: 225.6451\n",
      "Epoch 11/20\n",
      "\u001b[1m30/30\u001b[0m \u001b[32m━━━━━━━━━━━━━━━━━━━━\u001b[0m\u001b[37m\u001b[0m \u001b[1m0s\u001b[0m 4ms/step - loss: 7.8599 - val_loss: 206.4982\n",
      "Epoch 12/20\n",
      "\u001b[1m30/30\u001b[0m \u001b[32m━━━━━━━━━━━━━━━━━━━━\u001b[0m\u001b[37m\u001b[0m \u001b[1m0s\u001b[0m 4ms/step - loss: 6.7874 - val_loss: 190.2879\n",
      "Epoch 13/20\n",
      "\u001b[1m30/30\u001b[0m \u001b[32m━━━━━━━━━━━━━━━━━━━━\u001b[0m\u001b[37m\u001b[0m \u001b[1m0s\u001b[0m 4ms/step - loss: 5.7589 - val_loss: 176.0504\n",
      "Epoch 14/20\n",
      "\u001b[1m30/30\u001b[0m \u001b[32m━━━━━━━━━━━━━━━━━━━━\u001b[0m\u001b[37m\u001b[0m \u001b[1m0s\u001b[0m 4ms/step - loss: 4.9947 - val_loss: 162.7561\n",
      "Epoch 15/20\n",
      "\u001b[1m30/30\u001b[0m \u001b[32m━━━━━━━━━━━━━━━━━━━━\u001b[0m\u001b[37m\u001b[0m \u001b[1m0s\u001b[0m 4ms/step - loss: 4.4199 - val_loss: 151.1527\n",
      "Epoch 16/20\n",
      "\u001b[1m30/30\u001b[0m \u001b[32m━━━━━━━━━━━━━━━━━━━━\u001b[0m\u001b[37m\u001b[0m \u001b[1m0s\u001b[0m 4ms/step - loss: 3.9223 - val_loss: 140.8050\n",
      "Epoch 17/20\n",
      "\u001b[1m30/30\u001b[0m \u001b[32m━━━━━━━━━━━━━━━━━━━━\u001b[0m\u001b[37m\u001b[0m \u001b[1m0s\u001b[0m 4ms/step - loss: 3.3599 - val_loss: 131.6944\n",
      "Epoch 18/20\n",
      "\u001b[1m30/30\u001b[0m \u001b[32m━━━━━━━━━━━━━━━━━━━━\u001b[0m\u001b[37m\u001b[0m \u001b[1m0s\u001b[0m 4ms/step - loss: 2.8900 - val_loss: 122.9554\n",
      "Epoch 19/20\n",
      "\u001b[1m30/30\u001b[0m \u001b[32m━━━━━━━━━━━━━━━━━━━━\u001b[0m\u001b[37m\u001b[0m \u001b[1m0s\u001b[0m 4ms/step - loss: 2.5556 - val_loss: 115.3360\n",
      "Epoch 20/20\n",
      "\u001b[1m30/30\u001b[0m \u001b[32m━━━━━━━━━━━━━━━━━━━━\u001b[0m\u001b[37m\u001b[0m \u001b[1m0s\u001b[0m 4ms/step - loss: 2.2712 - val_loss: 108.2718\n",
      "\u001b[1m6/6\u001b[0m \u001b[32m━━━━━━━━━━━━━━━━━━━━\u001b[0m\u001b[37m\u001b[0m \u001b[1m0s\u001b[0m 18ms/step\n"
     ]
    }
   ],
   "source": [
    "from sklearn.preprocessing import MinMaxScaler\n",
    "scaler = MinMaxScaler()\n",
    "X_train_scaled = scaler.fit_transform(X_train)\n",
    "X_val_scaled = scaler.transform(X_val)\n",
    "\n",
    "timesteps = 10  # Usar janelas de 10 dias\n",
    "def create_sequences(X, y, ts):\n",
    "    Xs, ys = [], []\n",
    "    for i in range(len(X) - ts):\n",
    "        Xs.append(X[i:i+ts])\n",
    "        ys.append(y[i+ts])\n",
    "    return np.array(Xs), np.array(ys)\n",
    "\n",
    "X_seq_train, y_seq_train = create_sequences(X_train_scaled, y_train.values, timesteps)\n",
    "X_seq_val, y_seq_val = create_sequences(X_val_scaled, y_val.values, timesteps)\n",
    "\n",
    "model_lstm = models.Sequential([\n",
    "    layers.LSTM(50, input_shape=(timesteps, X_train.shape[1])),\n",
    "    layers.Dense(1)\n",
    "])\n",
    "model_lstm.compile(optimizer='adam', loss='mse')\n",
    "model_lstm.fit(X_seq_train, y_seq_train, epochs=20, validation_data=(X_seq_val, y_seq_val),\n",
    "               callbacks=[callbacks.EarlyStopping(patience=3)])\n",
    "y_val_pred_lstm = model_lstm.predict(X_seq_val).flatten()\n"
   ]
  },
  {
   "cell_type": "markdown",
   "id": "0c17176d",
   "metadata": {},
   "source": [
    "- 4. Otimização e Avaliação\n",
    "    - Métricas a serem avaliadas:\n",
    "\n",
    "        - Mean Absolute Error (MAE)\n",
    "\n",
    "        - Root Mean Squared Error (RMSE)\n",
    "\n",
    "        - Mean Absolute Percentage Error (MAPE)"
   ]
  },
  {
   "cell_type": "code",
   "execution_count": 13,
   "id": "c62bd883",
   "metadata": {},
   "outputs": [],
   "source": [
    "def print_metrics(y_true, y_pred, model_name):\n",
    "    mae = mean_absolute_error(y_true, y_pred)\n",
    "    rmse = np.sqrt(mean_squared_error(y_true, y_pred))\n",
    "    mape = mean_absolute_percentage_error(y_true, y_pred)\n",
    "    print(f\"{model_name}: MAE={mae:.4f} | RMSE={rmse:.4f} | MAPE={mape:.2%}\")\n"
   ]
  },
  {
   "cell_type": "markdown",
   "id": "320898cf",
   "metadata": {},
   "source": [
    "- Exemplo de uso:"
   ]
  },
  {
   "cell_type": "code",
   "execution_count": 15,
   "id": "e238579a",
   "metadata": {},
   "outputs": [
    {
     "name": "stdout",
     "output_type": "stream",
     "text": [
      "XGBoost: MAE=3.3407 | RMSE=3.8341 | MAPE=10.03%\n",
      "ARIMA: MAE=3.4559 | RMSE=3.9155 | MAPE=10.41%\n",
      "Prophet: MAE=4.3091 | RMSE=5.3807 | MAPE=13.24%\n",
      "LSTM: MAE=10.2448 | RMSE=10.4054 | MAPE=31.34%\n"
     ]
    }
   ],
   "source": [
    "print_metrics(y_val, y_val_pred, \"XGBoost\")\n",
    "print_metrics(y_val, y_val_pred_arima, \"ARIMA\")\n",
    "print_metrics(y_val, y_val_pred_prophet, \"Prophet\")\n",
    "print_metrics(y_seq_val, y_val_pred_lstm, \"LSTM\")"
   ]
  }
 ],
 "metadata": {
  "kernelspec": {
   "display_name": "env-stock-prediction",
   "language": "python",
   "name": "python3"
  },
  "language_info": {
   "codemirror_mode": {
    "name": "ipython",
    "version": 3
   },
   "file_extension": ".py",
   "mimetype": "text/x-python",
   "name": "python",
   "nbconvert_exporter": "python",
   "pygments_lexer": "ipython3",
   "version": "3.13.5"
  }
 },
 "nbformat": 4,
 "nbformat_minor": 5
}
